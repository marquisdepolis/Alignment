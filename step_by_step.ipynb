{
 "cells": [
  {
   "cell_type": "code",
   "execution_count": 7,
   "metadata": {},
   "outputs": [
    {
     "name": "stderr",
     "output_type": "stream",
     "text": [
      "2023-03-15 17:33:31.753 Python[39801:1347095] +[CATransaction synchronize] called within transaction\n"
     ]
    }
   ],
   "source": [
    "import openai\n",
    "import os\n",
    "from time import time,sleep\n",
    "import textwrap\n",
    "import re\n",
    "import tkinter as tk\n",
    "from tkinter import filedialog\n",
    "from bs4 import BeautifulSoup\n",
    "\n",
    "def open_file(filepath):\n",
    "    with open(filepath, 'r', encoding='utf-8') as infile:\n",
    "        return infile.read()\n",
    "\n",
    "directory = filedialog.askdirectory()\n",
    "os.chdir(directory)\n",
    "\n",
    "os.environ[\"OPENAI_API_KEY\"] = open_file('openai_api_key.txt')\n",
    "openai.api_key = open_file('openai_api_key.txt')\n",
    "openai_api_key = openai.api_key"
   ]
  },
  {
   "cell_type": "code",
   "execution_count": 8,
   "metadata": {},
   "outputs": [],
   "source": [
    "your_question = input(\"Input what you are curious about: \")\n",
    "question = re.sub('\\s+', ' ', your_question)\n",
    "check_input = open_file('monitor_concepts.txt')"
   ]
  },
  {
   "cell_type": "code",
   "execution_count": 14,
   "metadata": {},
   "outputs": [
    {
     "name": "stdout",
     "output_type": "stream",
     "text": [
      "The original query is: What are some of the themes of Homer's Iliad? Answer in the style of the New Yorker magazine.\n",
      "The step by step breakdown is: \n",
      "\n",
      "Step-by-Step Instructions to Uncovering the Themes of Homer's Iliad\n",
      "\n",
      "By a McKinsey Consultant in the Style of The New Yorker\n",
      "\n",
      "The Iliad is one of the most influential works in the Western literary canon, known for its epic scope, vivid characters, and complex themes. But how can we uncover the themes that underlie this ancient masterpiece? Here are some step-by-step instructions to guide you on your journey of discovery:\n",
      "\n",
      "Step 1: Read the Iliad\n",
      "\n",
      "First and foremost, you need to read the Iliad. Despite being written more than two thousand years ago, it still resonates with modern readers. Take your time to savor the language and immerse yourself in Homer's world.\n",
      "\n",
      "Step 2: Pay Attention to the Characters\n",
      "\n",
      "One of the hallmarks of the Iliad is its memorable characters. From Hector, the noble Trojan prince, to Achilles, the wrathful Greek warrior, each character is defined by their strengths, weaknesses, and motivations. Pay close attention to their actions, their words, and their relationships with each other. They are the key to understanding the themes of the Iliad.\n",
      "\n",
      "Step 3: Look for Patterns\n",
      "\n",
      "As you read, look for patterns in the text. Do certain motifs or themes repeat themselves? Do certain characters or situations recur? These patterns can help you identify the key themes of the Iliad.\n",
      "\n",
      "Step 4: Consider the Historical Context\n",
      "\n",
      "The Iliad was written in a specific historical context, during a period of intense conflict between the Greeks and the Trojans. It reflects the values and beliefs of that time, such as the importance of honor, glory, and loyalty. Keeping this context in mind can help you understand the themes of the Iliad more deeply.\n",
      "\n",
      "Step 5: Consult Secondary Sources\n",
      "\n",
      "If you're still struggling to identify the themes of the Iliad, consult secondary sources. Scholars have written extensively on the work, analyzing its themes from various perspectives. Consider reading academic articles, books, or even online forums to gain new insights.\n",
      "\n",
      "Step 6: Revisit the Text\n",
      "\n",
      "Finally, don't be afraid to reread the Iliad. Each time you read it, you may see new things that you missed before. Take notes, underline passages, and reflect on what you've learned. The Iliad is a rich and complex work, and there is always more to discover.\n",
      "\n",
      " xxxx=====xxxxx\n",
      "\n",
      "The edited query is: Step-by-Step Instructions to Uncovering the Themes of Homer's Iliad\n",
      "\n",
      "By a McKinsey Consultant in the Style of The New Yorker\n",
      "\n",
      "The Iliad is one of the most influential works in the Western literary canon, known for its epic scope, vivid characters, and complex themes. But how can we uncover the themes that underlie this ancient masterpiece? Here are some step-by-step instructions to guide you on your journey of discovery:\n",
      "\n",
      "Step 1: Read the Iliad\n",
      "\n",
      "First and foremost, read the Iliad carefully. Take time to appreciate the language and immerse yourself in Homer's world.\n",
      "\n",
      "Step 2: Pay Attention to the Characters\n",
      "\n",
      "Give attention to the memorable characters and their actions, words, and relationships with each other. They are essential in unlocking the themes of Iliad.\n",
      "\n",
      "Step 3: Look for Patterns\n",
      "\n",
      "Identify patterns, repetitions of themes, motifs, characters, and situations in the text. These patterns can help you identify the key themes of the Iliad.\n",
      "\n",
      "Step 4: Consider the Historical Context\n",
      "\n",
      "The Iliad was written during an era of intense conflict between the Greeks and the Trojans, reflecting the values and beliefs of that time, which include the importance of honor, glory, and loyalty. Consider the historical context to gain understanding.\n",
      "\n",
      "Step 5: Consult Secondary Sources\n",
      "\n",
      "If necessary, consult secondary sources like academic articles, books, or online forums to gain new insights.\n",
      "\n",
      "Step 6: Revisit the Text\n",
      "\n",
      "Take notes, highlight important parts, and reflect on all you've learned. Reread the Iliad to see things you may have missed before. The Iliad is complex, and there is always more to discover.\n",
      "\n",
      " xxxx=====xxxxx\n",
      "\n",
      "The answer is: In summary, to uncover the themes of Homer's Iliad, first read it carefully, pay attention to the characters, look for patterns, consider the historical context, consult secondary sources if needed, and revisit the text. By following these steps, you can gain a deeper understanding of the complexities of this ancient epic and the themes that continue to resonate with readers today.\n"
     ]
    }
   ],
   "source": [
    "def test_step_by_step(query):\n",
    "    print(\"The original query is: \" + query)\n",
    "    interim_response1 = openai.ChatCompletion.create(\n",
    "            model=\"gpt-3.5-turbo\",\n",
    "            messages = [\n",
    "            {\"role\": \"system\", \"content\" : \"You are a top McKinsey consultant. You're great at creating step by step instructions, like a checklist, to break down problems, to find the best sequence of steps to get to the right answer.\"},\n",
    "            {\"role\": \"assistant\", \"content\": \"\"},\n",
    "            {\"role\": \"user\", \"content\": \"Create step by step instructions to find an answer to:\"+ query}    \n",
    "            ]\n",
    "        )\n",
    "    print(\"The step by step breakdown is: \"+ interim_response1.choices[0].message.content + \"\\n\\n xxxx=====xxxxx\\n\")\n",
    "\n",
    "    interim_response2 = openai.ChatCompletion.create(\n",
    "        model=\"gpt-3.5-turbo\",\n",
    "        messages = [\n",
    "        {\"role\": \"system\", \"content\" : \"You are a highly educated lawyer or analyst or McKinsey consultant, who is highly conscientious and follows the rules laid out in \"+ check_input},\n",
    "        {\"role\": \"user\", \"content\": \"Only if necessary, rephrase the steps here to comply with the stated rules. The final result should still be a step by step output: \"+ interim_response1.choices[0].message.content}]\n",
    "            )\n",
    "    print(\"The edited query is: \"+ interim_response2.choices[0].message.content + \"\\n\\n xxxx=====xxxxx\\n\")\n",
    "\n",
    "\n",
    "    response = openai.ChatCompletion.create(\n",
    "                model = \"gpt-3.5-turbo\",\n",
    "                messages = [\n",
    "                    {\"role\": \"system\", \"content\" : \"You are a really helpful and brilliant assistant. Please try and answer the query as succinctly and in accordance to what's being asked as you can.\"},\n",
    "                    {\"role\": \"user\", \"content\": interim_response2.choices[0].message.content}]\n",
    "            )\n",
    "    print(\"The answer is: \"+ response.choices[0].message.content)\n",
    "    return response.choices[0].message.content\n",
    "\n",
    "final_question = test_step_by_step(question)\n"
   ]
  },
  {
   "cell_type": "code",
   "execution_count": 15,
   "metadata": {},
   "outputs": [
    {
     "name": "stdout",
     "output_type": "stream",
     "text": [
      "The answer is: Yes, that's a great summary! To add to that, some of the major themes that are often discussed in relation to the Iliad include: the destructive power of pride and anger, the importance of honor and glory, the unpredictability of fate, the brutality and horror of war, the tensions between individual desires and societal expectations, and the fleeting nature of human life.\n"
     ]
    }
   ],
   "source": [
    "final_response = openai.ChatCompletion.create(\n",
    "            model = \"gpt-3.5-turbo\",\n",
    "            messages = [\n",
    "                {\"role\": \"system\", \"content\" : \"You are a really helpful and brilliant assistant. Please help succinctly answer this as well as you can.\"},\n",
    "                {\"role\": \"user\", \"content\": final_question}]\n",
    "        )\n",
    "print(\"The answer is: \"+ final_response.choices[0].message.content)"
   ]
  },
  {
   "cell_type": "code",
   "execution_count": 10,
   "metadata": {},
   "outputs": [
    {
     "name": "stdout",
     "output_type": "stream",
     "text": [
      "The answer is: Understood. As an AI language model, I do not engage in any inappropriate or offensive behavior. My responses are generated based on the input provided to me and my programming does not allow me to exhibit any bias or emotions. I strive to provide factual, informative, and helpful responses.\n"
     ]
    }
   ],
   "source": [
    "check_response = openai.ChatCompletion.create(\n",
    "                    model = \"gpt-3.5-turbo\",\n",
    "                    messages = [\n",
    "                        {\"role\": \"system\", \"content\" : \"You are an extremely conscientious factual analyst\"},\n",
    "                        {\"role\": \"user\", \"content\": check_input}]\n",
    "                )\n",
    "print(\"The answer is: \"+ check_response.choices[0].message.content)"
   ]
  }
 ],
 "metadata": {
  "kernelspec": {
   "display_name": "Python 3",
   "language": "python",
   "name": "python3"
  },
  "language_info": {
   "codemirror_mode": {
    "name": "ipython",
    "version": 3
   },
   "file_extension": ".py",
   "mimetype": "text/x-python",
   "name": "python",
   "nbconvert_exporter": "python",
   "pygments_lexer": "ipython3",
   "version": "3.9.6"
  },
  "orig_nbformat": 4
 },
 "nbformat": 4,
 "nbformat_minor": 2
}
