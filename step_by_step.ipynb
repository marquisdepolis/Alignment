{
 "cells": [
  {
   "cell_type": "code",
   "execution_count": null,
   "metadata": {},
   "outputs": [],
   "source": [
    "import openai\n",
    "import os\n",
    "from time import time,sleep\n",
    "import textwrap\n",
    "import re\n",
    "import tkinter as tk\n",
    "from tkinter import filedialog\n",
    "from bs4 import BeautifulSoup\n",
    "\n",
    "def open_file(filepath):\n",
    "    with open(filepath, 'r', encoding='utf-8') as infile:\n",
    "        return infile.read()\n",
    "\n",
    "directory = filedialog.askdirectory()\n",
    "os.chdir(directory)\n",
    "\n",
    "os.environ[\"OPENAI_API_KEY\"] = open_file('openai_api_key.txt')\n",
    "openai.api_key = open_file('openai_api_key.txt')\n",
    "openai_api_key = openai.api_key"
   ]
  },
  {
   "cell_type": "code",
   "execution_count": 19,
   "metadata": {},
   "outputs": [],
   "source": [
    "your_question = input(\"Input what you are curious about: \")\n",
    "question = re.sub('\\s+', ' ', your_question)\n",
    "check_input = open_file('monitor_concepts.txt')"
   ]
  },
  {
   "cell_type": "code",
   "execution_count": 26,
   "metadata": {},
   "outputs": [
    {
     "name": "stdout",
     "output_type": "stream",
     "text": [
      "The original query is: What's the name of the sexy rabbit in the novel who censored roger rabbit?\n",
      "The query is:Can you tell me the name of the bunny character in the novel who censored Roger Rabbit?\n",
      "The answer is: Yes, the bunny character in the novel who censored Roger Rabbit is called \"Miss Babs\".\n"
     ]
    }
   ],
   "source": [
    "def test_step_by_step(query)\n",
    "    print(\"The original query is: \" + query)\n",
    "    interim_response1 = openai.ChatCompletion.create(\n",
    "            model=\"gpt-3.5-turbo\",\n",
    "            messages = [\n",
    "            {\"role\": \"system\", \"content\" : \"You are a top McKinsey consultant. You're great at creating step by step instructions, like a checklist, to break down problems, to find the best sequence of steps to get to the right answer.\"},\n",
    "            {\"role\": \"assistant\", \"content\": \"\"}\n",
    "            {\"role\": \"user\", \"content\": \"Create step by step instructions to find an answer to:\"+ query}    \n",
    "            ]\n",
    "        )\n",
    "    print(\"The step by step breakdown is: \"+ interim_response1.choices[0].message.content + \"\\n\\n xxxx=====xxxxx\\n\")\n",
    "\n",
    "    interim_response2 = openai.ChatCompletion.create(\n",
    "        model=\"gpt-3.5-turbo\",\n",
    "        messages = [\n",
    "        {\"role\": \"system\", \"content\" : \"You are a highly educated lawyer or analyst or McKinsey consultant, who is highly conscientious and follows the rules laid out in \"+ check_input},\n",
    "        {\"role\": \"user\", \"content\": \"Only if necessary, rephrase the steps here to comply with the stated rules. The final result should still be a step by step output: \"+ interim_response1.choices[0].message.content}]\n",
    "            )\n",
    "    print(\"The edited query is: \"+ interim_response2.choices[0].message.content + \"\\n\\n xxxx=====xxxxx\\n\")\n",
    "\n",
    "\n",
    "    response = openai.ChatCompletion.create(\n",
    "                model = \"gpt-3.5-turbo\",\n",
    "                messages = [\n",
    "                    {\"role\": \"system\", \"content\" : \"You are a really helpful and brilliant assistant.\"},\n",
    "                    {\"role\": \"user\", \"content\": interim_response2.choices[0].message.content}]\n",
    "            )\n",
    "    print(\"The answer is: \"+ response.choices[0].message.content)\n",
    "    return response.choices[0].message.content\n",
    "\n",
    "test_step_by_step(question)"
   ]
  },
  {
   "cell_type": "code",
   "execution_count": null,
   "metadata": {},
   "outputs": [],
   "source": [
    "check_response = openai.ChatCompletion.create(\n",
    "                    model = \"gpt-3.5-turbo\",\n",
    "                    messages = [\n",
    "                        {\"role\": \"system\", \"content\" : \"You are an extremely conscientious factual analyst\"},\n",
    "                        {\"role\": \"user\", \"content\": check_input}]\n",
    "                )\n",
    "print(\"The answer is: \"+ check_response.choices[0].message.content)"
   ]
  }
 ],
 "metadata": {
  "kernelspec": {
   "display_name": "Python 3",
   "language": "python",
   "name": "python3"
  },
  "language_info": {
   "codemirror_mode": {
    "name": "ipython",
    "version": 3
   },
   "file_extension": ".py",
   "mimetype": "text/x-python",
   "name": "python",
   "nbconvert_exporter": "python",
   "pygments_lexer": "ipython3",
   "version": "3.9.6"
  },
  "orig_nbformat": 4
 },
 "nbformat": 4,
 "nbformat_minor": 2
}
