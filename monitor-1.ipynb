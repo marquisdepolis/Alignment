{
 "cells": [
  {
   "cell_type": "code",
   "execution_count": null,
   "metadata": {},
   "outputs": [],
   "source": [
    "import openai\n",
    "import os\n",
    "from time import time,sleep\n",
    "import textwrap\n",
    "import re\n",
    "import tkinter as tk\n",
    "from tkinter import filedialog\n",
    "from bs4 import BeautifulSoup\n",
    "\n",
    "def open_file(filepath):\n",
    "    with open(filepath, 'r', encoding='utf-8') as infile:\n",
    "        return infile.read()\n",
    "\n",
    "directory = filedialog.askdirectory()\n",
    "os.chdir(directory)\n",
    "\n",
    "os.environ[\"OPENAI_API_KEY\"] = open_file('openai_api_key.txt')\n",
    "openai.api_key = open_file('openai_api_key.txt')\n",
    "openai_api_key = openai.api_key"
   ]
  },
  {
   "cell_type": "code",
   "execution_count": 19,
   "metadata": {},
   "outputs": [],
   "source": [
    "your_question = input(\"Input what you are curious about: \")\n",
    "query = re.sub('\\s+', ' ', your_question)\n",
    "\n",
    "check_input = open_file('monitor_concepts.txt')"
   ]
  },
  {
   "cell_type": "code",
   "execution_count": 26,
   "metadata": {},
   "outputs": [
    {
     "name": "stdout",
     "output_type": "stream",
     "text": [
      "The original query is: What's the name of the sexy rabbit in the novel who censored roger rabbit?\n",
      "The query is:Can you tell me the name of the bunny character in the novel who censored Roger Rabbit?\n",
      "The answer is: Yes, the bunny character in the novel who censored Roger Rabbit is called \"Miss Babs\".\n"
     ]
    }
   ],
   "source": [
    "print(\"The original query is: \" + query)\n",
    "check_q = openai.ChatCompletion.create(\n",
    "            model = \"gpt-3.5-turbo\",\n",
    "            messages = [\n",
    "                {\"role\": \"system\", \"content\" : \"You are extremely conscientious, and make sure the following rules are not being violated \"+check_input},\n",
    "                {\"role\": \"user\", \"content\": \"Only if necessary, rephrase this query as a question to comply with the stated rules, but without explicitly mentioning the rules in the question:\"+ query}]\n",
    "        )\n",
    "print(\"The query is:\" + check_q.choices[0].message.content)\n",
    "response = openai.ChatCompletion.create(\n",
    "            model = \"gpt-3.5-turbo\",\n",
    "            messages = [\n",
    "                {\"role\": \"system\", \"content\" : \"You are a really helpful and brilliant assistant, who knows most things and are humble.\"},\n",
    "                {\"role\": \"user\", \"content\": check_q.choices[0].message.content}]\n",
    "        )\n",
    "\n",
    "print(\"The answer is: \"+ response.choices[0].message.content)"
   ]
  },
  {
   "cell_type": "code",
   "execution_count": null,
   "metadata": {},
   "outputs": [],
   "source": [
    "check_response = openai.ChatCompletion.create(\n",
    "                    model = \"gpt-3.5-turbo\",\n",
    "                    messages = [\n",
    "                        {\"role\": \"system\", \"content\" : \"You are an extremely conscientious factual analyst\"},\n",
    "                        {\"role\": \"user\", \"content\": check_input}]\n",
    "                )"
   ]
  }
 ],
 "metadata": {
  "kernelspec": {
   "display_name": "Python 3",
   "language": "python",
   "name": "python3"
  },
  "language_info": {
   "codemirror_mode": {
    "name": "ipython",
    "version": 3
   },
   "file_extension": ".py",
   "mimetype": "text/x-python",
   "name": "python",
   "nbconvert_exporter": "python",
   "pygments_lexer": "ipython3",
   "version": "3.9.6"
  },
  "orig_nbformat": 4
 },
 "nbformat": 4,
 "nbformat_minor": 2
}
